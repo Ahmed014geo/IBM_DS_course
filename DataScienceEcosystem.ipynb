{
 "cells": [
  {
   "cell_type": "markdown",
   "id": "4c8c331f-6c93-40e8-a55d-4967fbde69c1",
   "metadata": {
    "tags": []
   },
   "source": [
    "# Data Science Tools and Ecosystem"
   ]
  },
  {
   "cell_type": "markdown",
   "id": "0362b98e-a588-4828-b9dd-759b41c786eb",
   "metadata": {},
   "source": [
    "In this notebook, Data Science Tools and Ecosystem are summarized."
   ]
  },
  {
   "cell_type": "markdown",
   "id": "c70ea9f0-f4bc-4ec2-bbad-839c65b0e741",
   "metadata": {},
   "source": [
    "**Objectives:**\n",
    "* list of popular languages that Data Scientists\n",
    "* list of the commonly used libraries used by Data Scientists\n",
    "* examples of arithmetic expression in python"
   ]
  },
  {
   "cell_type": "markdown",
   "id": "973a2d5b-27ab-46e2-867a-445a72b4cceb",
   "metadata": {},
   "source": [
    "Some of the popular languages that Data Scientists use are:\n",
    " 1. python\n",
    " 2. R\n",
    " 3. SQL"
   ]
  },
  {
   "cell_type": "markdown",
   "id": "06027f6c-4dcd-4444-ae03-9832c9321906",
   "metadata": {},
   "source": [
    "Some of the commonly used libraries used by Data Scientists include:\n",
    " 1. panda\n",
    " 2. NumPy\n",
    " 3. Matplotlib"
   ]
  },
  {
   "cell_type": "markdown",
   "id": "d544590f-c709-4834-80ea-eb55c09b96b6",
   "metadata": {},
   "source": [
    "|Data Science Tools|\n",
    "|-----|\n",
    "|R Studio|\n",
    "|Jupyter Notebooks|\n",
    "|Spyder|\n",
    "\n",
    "\n",
    "\n"
   ]
  },
  {
   "cell_type": "markdown",
   "id": "dca2660b-f11e-4389-847e-ff419e26c1e4",
   "metadata": {
    "tags": []
   },
   "source": [
    "### Below are a few examples of evaluating arithmetic expressions in Python"
   ]
  },
  {
   "cell_type": "code",
   "execution_count": 2,
   "id": "684803b2-23c3-44e7-9c03-4f2f5e43a7a0",
   "metadata": {
    "tags": []
   },
   "outputs": [
    {
     "data": {
      "text/plain": [
       "17"
      ]
     },
     "execution_count": 2,
     "metadata": {},
     "output_type": "execute_result"
    }
   ],
   "source": [
    "# This a simple arithmetic expression to mutiply then add integers\n",
    "(3*4)+5"
   ]
  },
  {
   "cell_type": "code",
   "execution_count": 4,
   "id": "10a2a620-8c1c-4997-bf0f-070268696520",
   "metadata": {
    "tags": []
   },
   "outputs": [
    {
     "data": {
      "text/plain": [
       "3.3333333333333335"
      ]
     },
     "execution_count": 4,
     "metadata": {},
     "output_type": "execute_result"
    }
   ],
   "source": [
    "# This will convert 200 minutes to hours by diving by 60\n",
    "200/60"
   ]
  },
  {
   "cell_type": "markdown",
   "id": "3261b508-7571-4688-b7ba-a06166e3c4fb",
   "metadata": {},
   "source": [
    "## Author\n",
    "Ahmed Ali"
   ]
  },
  {
   "cell_type": "code",
   "execution_count": null,
   "id": "e819c033-31e1-4b57-bb14-9daf7d5c5a72",
   "metadata": {},
   "outputs": [],
   "source": []
  }
 ],
 "metadata": {
  "kernelspec": {
   "display_name": "Python",
   "language": "python",
   "name": "conda-env-python-py"
  },
  "language_info": {
   "codemirror_mode": {
    "name": "ipython",
    "version": 3
   },
   "file_extension": ".py",
   "mimetype": "text/x-python",
   "name": "python",
   "nbconvert_exporter": "python",
   "pygments_lexer": "ipython3",
   "version": "3.7.12"
  }
 },
 "nbformat": 4,
 "nbformat_minor": 5
}
